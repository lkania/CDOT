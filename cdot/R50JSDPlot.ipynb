{
 "cells": [
  {
   "cell_type": "code",
   "execution_count": 1,
   "id": "48382ab0",
   "metadata": {},
   "outputs": [
    {
     "name": "stdout",
     "output_type": "stream",
     "text": [
      "odict_keys(['Test.df', 'mixprop'])\n"
     ]
    }
   ],
   "source": [
    "import pyreadr\n",
    "result = pyreadr.read_r('DataforR50JSDPlot.Rdata')\n",
    "print(result.keys())"
   ]
  },
  {
   "cell_type": "code",
   "execution_count": 2,
   "id": "b27f696b",
   "metadata": {},
   "outputs": [],
   "source": [
    "import numpy as np\n",
    "df = result[\"Test.df\"]\n"
   ]
  },
  {
   "cell_type": "code",
   "execution_count": 3,
   "id": "c1ae7d66",
   "metadata": {},
   "outputs": [],
   "source": [
    "preds = np.array(df[\"Trans_h\"])\n",
    "targets = np.array(df[\"label\"])"
   ]
  },
  {
   "cell_type": "code",
   "execution_count": 4,
   "id": "52b7e041",
   "metadata": {},
   "outputs": [
    {
     "name": "stdout",
     "output_type": "stream",
     "text": [
      "['0' '0' '0' ... '1' '1' '1']\n"
     ]
    }
   ],
   "source": [
    "print(targets)"
   ]
  },
  {
   "cell_type": "code",
   "execution_count": 5,
   "id": "e8dbbef7",
   "metadata": {},
   "outputs": [
    {
     "name": "stdout",
     "output_type": "stream",
     "text": [
      "[0.84791559 0.85341697 0.80439193 ... 0.4250999  0.04426433 0.13619038]\n"
     ]
    }
   ],
   "source": [
    "print(preds)"
   ]
  },
  {
   "cell_type": "code",
   "execution_count": 6,
   "id": "9fdc170a",
   "metadata": {},
   "outputs": [],
   "source": [
    "def find_threshold(L,mask,x_frac):\n",
    "    \"\"\"\n",
    "    Calculate c such that x_frac of the array is less than c.\n",
    "\n",
    "    Parameters\n",
    "    ----------\n",
    "    L : Array\n",
    "        The array where the cutoff is to be found\n",
    "    mask : Array,\n",
    "        Mask that returns L[mask] the part of the original array over which it is desired to calculate the threshold.\n",
    "    x_frac : float\n",
    "        Of the area that is lass than or equal to c.\n",
    "\n",
    "    returns c (type=L.dtype)\n",
    "    \"\"\"\n",
    "    max_x = mask.sum()\n",
    "    x = int(np.round(x_frac * max_x))\n",
    "    L_sorted = np.sort(L[mask.astype(bool)])\n",
    "    return L_sorted[x] "
   ]
  },
  {
   "cell_type": "code",
   "execution_count": 7,
   "id": "8802ba41",
   "metadata": {},
   "outputs": [
    {
     "name": "stdout",
     "output_type": "stream",
     "text": [
      "10.199891377780132\n"
     ]
    }
   ],
   "source": [
    "c = find_threshold(preds, (targets==\"0\"), 0.5)\n",
    "R50 = 1/((preds[targets==\"1\"]>c).sum()/(targets==\"1\").sum())\n",
    "print(R50)"
   ]
  },
  {
   "cell_type": "code",
   "execution_count": 8,
   "id": "8a7871e8",
   "metadata": {},
   "outputs": [
    {
     "name": "stdout",
     "output_type": "stream",
     "text": [
      "7358.641914341908\n"
     ]
    }
   ],
   "source": [
    "from scipy.stats import entropy\n",
    "m = np.array(df[\"mass\"])\n",
    "hist1, bins = np.histogram(m[(targets==\"1\")&(preds>c)], bins = 50, density = True)\n",
    "hist2, _ = np.histogram(m[(targets==\"1\")&(preds<c)], bins = bins, density = True)\n",
    "JSD = 1/(0.5*(entropy(hist1,0.5*(hist1+hist2)) + entropy(hist2,0.5*(hist1+hist2))))\n",
    "print(JSD)"
   ]
  },
  {
   "cell_type": "code",
   "execution_count": 9,
   "id": "5628d68c",
   "metadata": {},
   "outputs": [],
   "source": [
    "R50list = np.array(R50)\n",
    "JSDlist = np.array(JSD)\n",
    "prop = np.array(result[\"mixprop\"])\n",
    "OTh = np.array(df[\"Trans_h\"])\n",
    "h = np.array(df[\"h\"])"
   ]
  },
  {
   "cell_type": "code",
   "execution_count": 10,
   "id": "fbb22a63",
   "metadata": {},
   "outputs": [],
   "source": [
    "for p in prop.flatten():\n",
    "    preds = (1 - p)*OTh + p*h\n",
    "    c = find_threshold(preds, (targets==\"0\"), 0.5)\n",
    "    R50new = 1/((preds[targets==\"1\"]>c).sum()/(targets==\"1\").sum())\n",
    "    R50list = np.append(R50list, R50new)\n",
    "    hist1, bins = np.histogram(m[(targets==\"1\")&(preds>c)], bins = 50, density = True)\n",
    "    hist2, _ = np.histogram(m[(targets==\"1\")&(preds<c)], bins = bins, density = True)\n",
    "    JSDnew = 1/(0.5*(entropy(hist1,0.5*(hist1+hist2)) + entropy(hist2,0.5*(hist1+hist2))))\n",
    "    JSDlist = np.append(JSDlist, JSDnew)"
   ]
  },
  {
   "cell_type": "code",
   "execution_count": 11,
   "id": "0a7c9869",
   "metadata": {},
   "outputs": [
    {
     "name": "stdout",
     "output_type": "stream",
     "text": [
      "[7.35864191e+03 7.35864191e+03 7.35864191e+03 7.35864191e+03\n",
      " 7.36527166e+03 7.36527166e+03 7.36413791e+03 7.36026017e+03\n",
      " 7.36013534e+03 7.36013534e+03 7.35630006e+03 7.27298549e+03\n",
      " 7.28696405e+03 7.29529664e+03 7.30425559e+03 7.23567166e+03\n",
      " 7.26396352e+03 7.25891420e+03 6.90078127e+03 5.62251290e+03\n",
      " 3.23604998e+03 1.14952927e+03 1.06308806e+03 8.12602290e+02\n",
      " 6.27506009e+02 4.96866650e+02 3.93532425e+02 3.25898282e+02\n",
      " 2.71340889e+02 2.29009288e+02 1.94568072e+02 1.80933407e+02\n",
      " 9.64303827e+01 5.76802785e+01 3.82669792e+01 2.68295413e+01\n",
      " 1.98773704e+01 1.51677934e+01 1.20141088e+01 1.02174835e+01\n",
      " 8.99726778e+00 7.91265418e+00 7.11607331e+00 6.47880076e+00\n",
      " 6.01388385e+00 5.81425242e+00 5.53893943e+00 5.32088115e+00\n",
      " 4.95698996e+00]\n"
     ]
    }
   ],
   "source": [
    "print(JSDlist)"
   ]
  },
  {
   "cell_type": "code",
   "execution_count": 12,
   "id": "979c6063",
   "metadata": {},
   "outputs": [
    {
     "name": "stdout",
     "output_type": "stream",
     "text": [
      "[10.19989138 10.19989138 10.19989138 10.19989138 10.20002649 10.20002649\n",
      " 10.19989138 10.19962116 10.19948605 10.19948605 10.20029674 10.20083726\n",
      " 10.20259437 10.2047578  10.20624569 10.21382713 10.22209832 10.24508369\n",
      " 10.29177861 10.37903704 10.53942704 10.89833411 10.93237545 11.05162689\n",
      " 11.16978067 11.29611971 11.427045   11.55652944 11.70177198 11.83650254\n",
      " 11.96915998 12.0205442  12.67781876 13.38594997 14.10902428 14.82536871\n",
      " 15.58767561 16.33363031 16.99591657 17.66460197 18.26722338 18.83838137\n",
      " 19.33216169 19.80401739 20.32573978 20.74856512 21.18818965 21.62374681\n",
      " 22.01950299]\n"
     ]
    }
   ],
   "source": [
    "print(R50list)"
   ]
  },
  {
   "cell_type": "code",
   "execution_count": 13,
   "id": "e805e1a9",
   "metadata": {},
   "outputs": [
    {
     "name": "stdout",
     "output_type": "stream",
     "text": [
      "[5.96046448e-08 1.19209290e-07 2.38418579e-07 4.76837158e-07\n",
      " 9.53674316e-07 1.90734863e-06 3.81469727e-06 7.62939453e-06\n",
      " 1.52587891e-05 3.05175781e-05 6.10351562e-05 1.22070312e-04\n",
      " 2.44140625e-04 4.88281250e-04 9.76562500e-04 1.95312500e-03\n",
      " 3.90625000e-03 7.81250000e-03 1.56250000e-02 3.12500000e-02\n",
      " 6.25000000e-02 6.50000000e-02 7.50000000e-02 8.50000000e-02\n",
      " 9.50000000e-02 1.05000000e-01 1.15000000e-01 1.25000000e-01\n",
      " 1.35000000e-01 1.45000000e-01 1.50000000e-01 2.00000000e-01\n",
      " 2.50000000e-01 3.00000000e-01 3.50000000e-01 4.00000000e-01\n",
      " 4.50000000e-01 5.00000000e-01 5.50000000e-01 6.00000000e-01\n",
      " 6.50000000e-01 7.00000000e-01 7.50000000e-01 8.00000000e-01\n",
      " 8.50000000e-01 9.00000000e-01 9.50000000e-01 1.00000000e+00]\n"
     ]
    }
   ],
   "source": [
    "print(prop.flatten())"
   ]
  },
  {
   "cell_type": "code",
   "execution_count": 14,
   "id": "39d554a3",
   "metadata": {},
   "outputs": [],
   "source": [
    "import pandas as pd\n",
    "prop = np.append(0,prop)\n",
    "dfR50JSD = pd.DataFrame({'prop':prop, 'R50list':R50list, 'JSDlist':JSDlist})"
   ]
  },
  {
   "cell_type": "code",
   "execution_count": 15,
   "id": "d258dcb1",
   "metadata": {},
   "outputs": [
    {
     "name": "stdout",
     "output_type": "stream",
     "text": [
      "[0.00000000e+00 5.96046448e-08 1.19209290e-07 2.38418579e-07\n",
      " 4.76837158e-07 9.53674316e-07 1.90734863e-06 3.81469727e-06\n",
      " 7.62939453e-06 1.52587891e-05 3.05175781e-05 6.10351562e-05\n",
      " 1.22070312e-04 2.44140625e-04 4.88281250e-04 9.76562500e-04\n",
      " 1.95312500e-03 3.90625000e-03 7.81250000e-03 1.56250000e-02\n",
      " 3.12500000e-02 6.25000000e-02 6.50000000e-02 7.50000000e-02\n",
      " 8.50000000e-02 9.50000000e-02 1.05000000e-01 1.15000000e-01\n",
      " 1.25000000e-01 1.35000000e-01 1.45000000e-01 1.50000000e-01\n",
      " 2.00000000e-01 2.50000000e-01 3.00000000e-01 3.50000000e-01\n",
      " 4.00000000e-01 4.50000000e-01 5.00000000e-01 5.50000000e-01\n",
      " 6.00000000e-01 6.50000000e-01 7.00000000e-01 7.50000000e-01\n",
      " 8.00000000e-01 8.50000000e-01 9.00000000e-01 9.50000000e-01\n",
      " 1.00000000e+00]\n"
     ]
    }
   ],
   "source": [
    "print(prop)"
   ]
  },
  {
   "cell_type": "code",
   "execution_count": 16,
   "id": "9e1b515b",
   "metadata": {},
   "outputs": [],
   "source": [
    "pyreadr.write_rdata(\"PythonR50JSDPlotData.RData\", dfR50JSD, df_name=\"R50JSDPython\")"
   ]
  },
  {
   "cell_type": "code",
   "execution_count": null,
   "id": "b7db0f00",
   "metadata": {},
   "outputs": [],
   "source": []
  },
  {
   "cell_type": "code",
   "execution_count": null,
   "id": "8d49ef48",
   "metadata": {},
   "outputs": [],
   "source": []
  }
 ],
 "metadata": {
  "kernelspec": {
   "display_name": "Python 3 (ipykernel)",
   "language": "python",
   "name": "python3"
  },
  "language_info": {
   "codemirror_mode": {
    "name": "ipython",
    "version": 3
   },
   "file_extension": ".py",
   "mimetype": "text/x-python",
   "name": "python",
   "nbconvert_exporter": "python",
   "pygments_lexer": "ipython3",
   "version": "3.10.8"
  }
 },
 "nbformat": 4,
 "nbformat_minor": 5
}
